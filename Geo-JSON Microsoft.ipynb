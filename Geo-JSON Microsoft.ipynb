{
 "cells": [
  {
   "cell_type": "code",
   "execution_count": 1,
   "metadata": {},
   "outputs": [],
   "source": [
    "import csv, json\n",
    "from geojson import Feature, FeatureCollection, Point"
   ]
  },
  {
   "cell_type": "code",
   "execution_count": 1,
   "metadata": {},
   "outputs": [],
   "source": [
    "import csv, json\n",
    "from geojson import Feature, FeatureCollection, Point\n",
    "\n",
    "features = []\n",
    "with open('testfile_withlatlong.csv', newline='', encoding='ISO-8859-1') as csvfile:\n",
    "    reader = csv.reader(csvfile, delimiter=',')\n",
    "    next (reader)\n",
    "    for Index, Date, Country, Lat, Long, Rank, Game, Image in reader:\n",
    "        if (Rank == \"1\"): \n",
    "            \n",
    "            Lat, Long = map(float, (Lat, Long))\n",
    "            features.append(\n",
    "                Feature(\n",
    "                    geometry = Point((Long, Lat)),\n",
    "                    properties = {\n",
    "                        'date': Date,\n",
    "                        'country': Country,\n",
    "                        'Rank': Rank,\n",
    "                        'Game': Game                  \n",
    "                }\n",
    "            )\n",
    "        )\n",
    "\n",
    "collection = FeatureCollection(features)\n",
    "with open(\"rank1games.json\", \"w\") as f:\n",
    "    f.write(str(collection))"
   ]
  },
  {
   "cell_type": "code",
   "execution_count": null,
   "metadata": {},
   "outputs": [],
   "source": []
  }
 ],
 "metadata": {
  "kernelspec": {
   "display_name": "Python [conda env:PythonData] *",
   "language": "python",
   "name": "conda-env-PythonData-py"
  },
  "language_info": {
   "codemirror_mode": {
    "name": "ipython",
    "version": 3
   },
   "file_extension": ".py",
   "mimetype": "text/x-python",
   "name": "python",
   "nbconvert_exporter": "python",
   "pygments_lexer": "ipython3",
   "version": "3.6.10"
  }
 },
 "nbformat": 4,
 "nbformat_minor": 4
}
